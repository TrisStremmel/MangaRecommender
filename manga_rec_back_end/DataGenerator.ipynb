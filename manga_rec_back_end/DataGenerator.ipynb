{
 "cells": [
  {
   "cell_type": "code",
   "execution_count": 1,
   "id": "9183287d",
   "metadata": {},
   "outputs": [],
   "source": [
    "import mysql.connector\n",
    "import base64\n",
    "import time\n",
    "import numpy as np\n",
    "import pickle\n",
    "import os"
   ]
  },
  {
   "cell_type": "code",
   "execution_count": 28,
   "id": "27b25a61",
   "metadata": {},
   "outputs": [],
   "source": [
    "dataBase = mysql.connector.connect(\n",
    "    host=\"washington.uww.edu\",\n",
    "    user=\"stremmeltr18\",\n",
    "    passwd=base64.b64decode(b'dHM1NjEy').decode(\"utf-8\"),\n",
    "    database=\"manga_rec\"\n",
    ")\n",
    "myCursor = dataBase.cursor()\n",
    "myCursor.execute(\"select * from manga;\")\n",
    "manga = [x for x in myCursor]\n",
    "for i in range(len(manga)):\n",
    "    manga[i] = list(manga[i])\n",
    "    del manga[i][3]  # drop description for ease of viewing output"
   ]
  },
  {
   "cell_type": "code",
   "execution_count": 19,
   "id": "593b4c5b",
   "metadata": {},
   "outputs": [
    {
     "name": "stdout",
     "output_type": "stream",
     "text": [
      "[4, 33, 'Monster', 'description', 1994, 162, 'Finished', 'Drama|Mystery', 'Adult Cast|Psychological', 'Seinen', 'https://cdn.myanimelist.net/r/42x62/images/characters/4/316522.jpg?s=0e1d82e64cdde251b0c7f38c99efdeb4']\n"
     ]
    }
   ],
   "source": [
    "print(manga[4])"
   ]
  },
  {
   "cell_type": "code",
   "execution_count": 13,
   "id": "7ef4443c",
   "metadata": {},
   "outputs": [],
   "source": [
    "maxPopularity = 27691\n",
    "minPopularity = 1\n",
    "maxReleaseDate = 2022\n",
    "minReleaseDate = 1946\n",
    "maxChapterCount = 6477\n",
    "minChapterCount = 1"
   ]
  },
  {
   "cell_type": "code",
   "execution_count": 16,
   "id": "83639a45",
   "metadata": {},
   "outputs": [
    {
     "name": "stdout",
     "output_type": "stream",
     "text": [
      "[0, 3.611412062116287e-05, 0.5657894736842105, 0.05852378011117974]\n",
      "[1, 0.0009028530155290719, 0.7631578947368421, 0.014669549104385423]\n",
      "[2, 7.222824124232574e-05, 0.6710526315789473, 0.006022235948116121]\n",
      "[3, 0.000577825929938606, 0.6842105263157895, 0.05033971587399629]\n",
      "[4, 0.001155651859877212, 0.631578947368421, 0.024861025324274245]\n",
      "[5, 0.0006139400505597688, 0.7236842105263158, 0.01775787523162446]\n",
      "[6, 0.0019501625135427952, 0.8947368421052632, 0.006022235948116121]\n",
      "[7, 0.00036114120621162876, 0.8026315789473685, 0.022544780728844967]\n",
      "[8, 0.0023835319609967496, 0.5789473684210527, 0.04246448424953675]\n",
      "[9, 0.0007583965330444204, 0.7763157894736842, 0.006022235948116121]\n"
     ]
    }
   ],
   "source": [
    "encodedManga = []\n",
    "for mangaInstance in manga:\n",
    "    instanceData = [mangaInstance[0], mangaInstance[1], mangaInstance[4] if mangaInstance[4] is not None else 2008,\n",
    "                        mangaInstance[5] if mangaInstance[5] is not None else 40]\n",
    "    instanceData[1] = (instanceData[1]-minPopularity)/(maxPopularity-minPopularity)\n",
    "    instanceData[2] = (instanceData[2]-minReleaseDate)/(maxReleaseDate-minReleaseDate)\n",
    "    instanceData[3] = (instanceData[3]-minChapterCount)/(maxChapterCount-minChapterCount)\n",
    "    encodedManga.append(instanceData)\n",
    "for i in range(10):\n",
    "    print(encodedManga[i])"
   ]
  },
  {
   "cell_type": "code",
   "execution_count": 18,
   "id": "61f5f5d2",
   "metadata": {},
   "outputs": [],
   "source": [
    "for i in range(len(encodedManga)):\n",
    "    if encodedManga[3] is None:\n",
    "        print(i, encodedManga[i])"
   ]
  },
  {
   "cell_type": "code",
   "execution_count": 30,
   "id": "f39708a6",
   "metadata": {},
   "outputs": [
    {
     "name": "stdout",
     "output_type": "stream",
     "text": [
      "(10000,)\n",
      "[-1 -1 -1 ... -1 -1 -1]\n",
      "[   0    1    2 ... 9871 9872 9873]\n"
     ]
    }
   ],
   "source": [
    "#make manga_id -> manga_index np array\n",
    "get_manga_array_index = np.full((10000), -1, dtype=int)\n",
    "print(get_manga_array_index.shape)\n",
    "print(get_manga_array_index)\n",
    "for i in range(len(manga)):\n",
    "    get_manga_array_index[manga[i][0]] = i\n",
    "print(get_manga_array_index)"
   ]
  },
  {
   "cell_type": "code",
   "execution_count": 2,
   "id": "b583025d",
   "metadata": {},
   "outputs": [],
   "source": [
    "def convertRating(ratingTuple):\n",
    "    mangaId = ratingTuple[2]\n",
    "    status = ratingTuple[3]\n",
    "    originalRating = ratingTuple[4]\n",
    "\n",
    "    if originalRating is not None:\n",
    "        if originalRating >= 7:\n",
    "            return mangaId, 5  # 5\n",
    "        if originalRating >= 5:\n",
    "            return mangaId, 3  # 3\n",
    "        else:  # if rating < 5\n",
    "            return mangaId, 2  # 2\n",
    "    if status == 'reading' or status == 'completed':\n",
    "        return mangaId, 4  # 4\n",
    "    if status == 'plan_to_read':\n",
    "        return mangaId, 4  # 4\n",
    "    if status == 'on_hold':\n",
    "        return mangaId, 3  # 3\n",
    "    if status == 'dropped':\n",
    "        return mangaId, 2  # 2\n",
    "    if status == 'not interested':\n",
    "        return mangaId, 1\n",
    "    return mangaId, 4  # 4 \n",
    "\n",
    "def convertRating_forKnn(ratingTuple):\n",
    "    convertedRating = convertRating(ratingTuple)\n",
    "    if ratingTuple[1] is None:  # (new note) error checking\n",
    "        print(\"hi\")\n",
    "    if convertedRating is None:  # (new note) error checking\n",
    "        print(ratingTuple)\n",
    "    return ratingTuple[1], convertedRating[0], convertedRating[1]  # userId, mangaId, convertedRatingValue"
   ]
  },
  {
   "cell_type": "code",
   "execution_count": 31,
   "id": "73502764",
   "metadata": {},
   "outputs": [],
   "source": [
    "myCursor.execute(\"select * from ratings;\")\n",
    "ratings = myCursor.fetchall()  # [x for x in myCursor]\n",
    "convertedRatings = [convertRating_forKnn(x) for x in ratings]"
   ]
  },
  {
   "cell_type": "code",
   "execution_count": 33,
   "id": "810187f2",
   "metadata": {},
   "outputs": [
    {
     "name": "stdout",
     "output_type": "stream",
     "text": [
      "2546362\n"
     ]
    }
   ],
   "source": [
    "print(len(convertedRatings))\n",
    "np.save('convertedRatings', convertedRatings)"
   ]
  },
  {
   "cell_type": "code",
   "execution_count": 64,
   "id": "4d4fbca2",
   "metadata": {},
   "outputs": [],
   "source": [
    "def getStatusSet():\n",
    "    return ['On Hiatus', 'Finished', 'Publishing', 'Discontinued']\n",
    "def getGenreSet():\n",
    "    return ['Adventure', 'Comedy', 'Slice of Life', 'Boys Love', 'Sci-Fi', 'Action', 'Horror', 'Suspense', 'Girls Love',\n",
    "            'Gourmet', 'Sports', 'Avant Garde', 'Supernatural', 'Fantasy', 'Romance', 'Ecchi', 'Drama', 'Mystery']\n",
    "def getThemeSet():\n",
    "    return ['Historical', 'Time Travel', 'Visual Arts', 'Military', 'Love Polygon', 'Mecha', 'Martial Arts', 'Racing',\n",
    "            'Samurai', 'Strategy Game', 'CGDCT', 'Mythology', 'High Stakes Game', 'Idols (Male)', 'Reincarnation',\n",
    "            'Pets', 'Team Sports', 'Workplace', 'Isekai', 'Gag Humor', 'Memoir', 'Harem', 'Villainess', 'Detective',\n",
    "            'Performing Arts', 'Reverse Harem', 'Childcare', 'Otaku Culture', 'Mahou Shoujo', 'Anthropomorphic',\n",
    "            'Survival', 'Magical Sex Shift', 'Music', 'Delinquents', 'Organized Crime', 'Adult Cast', 'Medical',\n",
    "            'Showbiz', 'Crossdressing', 'Gore', 'Psychological', 'School', 'Combat Sports', 'Parody',\n",
    "            'Romantic Subtext', 'Space', 'Iyashikei', 'Video Game', 'Educational', 'Vampire', 'Super Power']\n",
    "def getDemographicSet():\n",
    "    return ['Kids', 'Seinen', 'Shoujo', 'Josei', 'Shounen']\n",
    "\n",
    "def encodeManga(manga):\n",
    "    mangaEncoded = []\n",
    "    rawFeaturesThatWereNormalized = []\n",
    "    statusSet = getStatusSet()\n",
    "    genreSet = getGenreSet()\n",
    "    themeSet = getThemeSet()\n",
    "    demographicSet = getDemographicSet()\n",
    "    maxPopularity = 27691\n",
    "    minPopularity = 1\n",
    "    maxReleaseDate = 2022\n",
    "    minReleaseDate = 1946\n",
    "    maxChapterCount = 6477\n",
    "    minChapterCount = 1\n",
    "    for mangaInstance in manga:\n",
    "        # make fill release date for None type,\n",
    "        # uses 2008 as fill for when release date is none. 2008 is average release data and there are only 100 manga...\n",
    "        # with no release date\n",
    "        # rn chapterCount is set to 40 if none, (avg is 40) ************************************************************\n",
    "        instanceData = [mangaInstance[0], mangaInstance[1], mangaInstance[4] if mangaInstance[4] is not None else 2008,\n",
    "                        mangaInstance[5] if mangaInstance[5] is not None else 40]\n",
    "        rawFeaturesThatWereNormalized.append(instanceData.copy())\n",
    "        # normalize release date, chapter count, and popularity between 0 and 1 (new)\n",
    "        instanceData[1] = (instanceData[1] - minPopularity) / (maxPopularity - minPopularity)\n",
    "        instanceData[2] = (instanceData[2] - minReleaseDate) / (maxReleaseDate - minReleaseDate)\n",
    "        instanceData[3] = (instanceData[3] - minChapterCount) / (maxChapterCount - minChapterCount)\n",
    "        \n",
    "        mangaInstanceStatusSet = mangaInstance[6]\n",
    "        for i in range(len(statusSet)):\n",
    "            if statusSet[i] == mangaInstanceStatusSet:\n",
    "                instanceData.append(1)\n",
    "            else:\n",
    "                instanceData.append(0)\n",
    "        mangaInstanceGenreSet = mangaInstance[7].split('|') if mangaInstance[7] is not None else []\n",
    "        for i in range(len(genreSet)):\n",
    "            if genreSet[i] in mangaInstanceGenreSet:\n",
    "                instanceData.append(1)\n",
    "            else:\n",
    "                instanceData.append(0)\n",
    "        mangaInstanceThemeSet = mangaInstance[8].split('|') if mangaInstance[8] is not None else []\n",
    "        for i in range(len(themeSet)):\n",
    "            if themeSet[i] in mangaInstanceThemeSet:\n",
    "                instanceData.append(1)\n",
    "            else:\n",
    "                instanceData.append(0)\n",
    "        mangaInstanceDemographicSet = mangaInstance[9].split('|') if mangaInstance[9] is not None else []\n",
    "        for i in range(len(demographicSet)):\n",
    "            if demographicSet[i] in mangaInstanceDemographicSet:\n",
    "                instanceData.append(1)\n",
    "            else:\n",
    "                instanceData.append(0)\n",
    "\n",
    "        mangaEncoded.append(instanceData)\n",
    "\n",
    "    return mangaEncoded, rawFeaturesThatWereNormalized"
   ]
  },
  {
   "cell_type": "code",
   "execution_count": 65,
   "id": "3e564b36",
   "metadata": {},
   "outputs": [],
   "source": [
    "dataBase = mysql.connector.connect(\n",
    "    host=\"washington.uww.edu\",\n",
    "    user=\"stremmeltr18\",\n",
    "    passwd=base64.b64decode(b'dHM1NjEy').decode(\"utf-8\"),\n",
    "    database=\"manga_rec\"\n",
    ")\n",
    "myCursor = dataBase.cursor()\n",
    "\n",
    "# create one hot encoded (and other data alterations) matrix of manga table\n",
    "# possible include no_genres/no_themes column (i dont think it would be good but idk)\n",
    "myCursor.execute(\"select * from manga;\")\n",
    "manga = [x for x in myCursor]\n",
    "encodedManga, rawFeaturesThatWereNormalized = encodeManga(manga)"
   ]
  },
  {
   "cell_type": "code",
   "execution_count": 45,
   "id": "2e7048f7",
   "metadata": {
    "scrolled": true
   },
   "outputs": [
    {
     "name": "stdout",
     "output_type": "stream",
     "text": [
      "[0, 2, 1989, 380]\n",
      "[0, 3.611412062116287e-05, 0.5657894736842105, 0.05852378011117974, 1, 0, 0, 0, 1, 0, 0, 0, 0, 1, 1, 0, 0, 0, 0, 0, 1, 1, 0, 0, 1, 0, 0, 0, 0, 1, 0, 0, 0, 0, 0, 0, 0, 1, 0, 0, 0, 0, 0, 0, 0, 0, 0, 0, 0, 0, 0, 0, 0, 0, 0, 0, 0, 0, 0, 0, 0, 0, 0, 0, 0, 1, 1, 0, 0, 0, 0, 0, 0, 0, 0, 0, 0, 0, 1, 0, 0, 0]\n",
      "[1, 26, 2004, 96]\n",
      "[1, 0.0009028530155290719, 0.7631578947368421, 0.014669549104385423, 0, 1, 0, 0, 1, 0, 0, 0, 0, 1, 1, 0, 0, 0, 0, 0, 1, 0, 0, 0, 0, 1, 1, 0, 0, 0, 0, 0, 0, 0, 0, 0, 0, 0, 0, 0, 0, 0, 0, 0, 0, 0, 0, 0, 0, 0, 0, 0, 0, 0, 0, 0, 0, 0, 0, 0, 0, 0, 0, 0, 0, 0, 0, 0, 0, 0, 0, 0, 0, 0, 0, 0, 0, 0, 1, 0, 0, 1]\n",
      "[2, 3, 1997, 40]\n",
      "[2, 7.222824124232574e-05, 0.6710526315789473, 0.006022235948116121, 0, 0, 1, 0, 1, 1, 0, 0, 0, 1, 0, 0, 0, 0, 0, 0, 0, 1, 0, 0, 0, 0, 0, 0, 0, 0, 0, 0, 0, 0, 0, 0, 0, 0, 0, 0, 0, 0, 0, 0, 0, 0, 0, 0, 0, 0, 0, 0, 0, 0, 0, 0, 0, 0, 0, 0, 0, 0, 0, 0, 0, 0, 0, 0, 0, 0, 0, 0, 0, 0, 0, 0, 1, 0, 0, 0, 0, 1]\n",
      "[3, 17, 1998, 327]\n",
      "[3, 0.000577825929938606, 0.6842105263157895, 0.05033971587399629, 1, 0, 0, 0, 1, 0, 0, 0, 0, 1, 0, 0, 0, 0, 0, 0, 0, 0, 0, 0, 1, 0, 1, 0, 0, 0, 0, 0, 0, 0, 1, 0, 0, 0, 0, 0, 0, 0, 0, 0, 0, 0, 0, 0, 0, 0, 0, 0, 0, 0, 0, 0, 0, 0, 0, 0, 0, 0, 0, 0, 0, 0, 0, 0, 0, 0, 0, 0, 0, 0, 0, 0, 0, 0, 1, 0, 0, 0]\n",
      "[4, 33, 1994, 162]\n",
      "[4, 0.001155651859877212, 0.631578947368421, 0.024861025324274245, 0, 1, 0, 0, 0, 0, 0, 0, 0, 0, 0, 0, 0, 0, 0, 0, 0, 0, 0, 0, 1, 1, 0, 0, 0, 0, 0, 0, 0, 0, 0, 0, 0, 0, 0, 0, 0, 0, 0, 0, 0, 0, 0, 0, 0, 0, 0, 0, 0, 0, 0, 0, 0, 0, 0, 0, 0, 1, 0, 0, 0, 0, 1, 0, 0, 0, 0, 0, 0, 0, 0, 0, 0, 0, 1, 0, 0, 0]\n",
      "[5, 18, 2001, 116]\n",
      "[5, 0.0006139400505597688, 0.7236842105263158, 0.01775787523162446, 0, 1, 0, 0, 1, 0, 0, 0, 0, 1, 0, 0, 0, 0, 0, 0, 0, 1, 0, 0, 1, 0, 0, 0, 0, 1, 0, 0, 0, 0, 0, 0, 0, 0, 0, 0, 0, 0, 0, 0, 0, 0, 0, 0, 0, 0, 0, 0, 0, 0, 0, 0, 0, 0, 0, 0, 0, 0, 0, 0, 0, 0, 0, 0, 0, 0, 0, 0, 0, 0, 0, 0, 0, 0, 0, 0, 0, 1]\n",
      "[6, 55, 2014, 40]\n",
      "[6, 0.0019501625135427952, 0.8947368421052632, 0.006022235948116121, 0, 0, 1, 0, 0, 1, 1, 0, 0, 0, 0, 0, 0, 0, 0, 0, 0, 0, 0, 0, 0, 0, 0, 0, 0, 0, 0, 0, 0, 0, 0, 0, 0, 0, 0, 0, 0, 0, 0, 0, 0, 0, 0, 0, 0, 0, 0, 0, 0, 0, 0, 0, 0, 0, 0, 0, 0, 0, 0, 0, 0, 0, 0, 0, 0, 0, 0, 0, 0, 0, 0, 0, 0, 0, 1, 0, 0, 0]\n",
      "[7, 11, 2007, 147]\n",
      "[7, 0.00036114120621162876, 0.8026315789473685, 0.022544780728844967, 0, 1, 0, 0, 0, 0, 1, 0, 0, 0, 0, 0, 0, 0, 0, 0, 0, 0, 0, 0, 1, 0, 0, 0, 0, 0, 0, 0, 0, 0, 0, 0, 0, 0, 0, 0, 0, 0, 0, 0, 0, 0, 0, 0, 0, 0, 0, 0, 0, 0, 0, 0, 0, 0, 0, 0, 0, 0, 0, 0, 0, 0, 1, 0, 0, 0, 0, 0, 0, 0, 0, 0, 0, 0, 1, 0, 0, 0]\n",
      "[8, 67, 1990, 276]\n",
      "[8, 0.0023835319609967496, 0.5789473684210527, 0.04246448424953675, 0, 1, 0, 0, 0, 1, 0, 0, 0, 0, 0, 0, 0, 0, 1, 0, 0, 0, 0, 0, 1, 0, 0, 0, 0, 0, 0, 0, 0, 0, 0, 0, 0, 0, 0, 0, 0, 0, 1, 0, 0, 0, 0, 0, 0, 0, 0, 0, 0, 0, 0, 0, 0, 0, 0, 0, 0, 0, 0, 0, 0, 0, 0, 1, 0, 0, 0, 0, 0, 0, 0, 0, 0, 0, 0, 0, 0, 1]\n",
      "[9, 22, 2005, 40]\n",
      "[9, 0.0007583965330444204, 0.7763157894736842, 0.006022235948116121, 0, 0, 1, 0, 1, 0, 0, 0, 0, 1, 0, 0, 0, 0, 0, 0, 0, 0, 0, 0, 1, 0, 1, 0, 0, 0, 0, 0, 0, 0, 0, 0, 0, 0, 0, 0, 0, 0, 0, 0, 0, 0, 0, 0, 0, 0, 0, 0, 0, 0, 0, 0, 0, 0, 0, 0, 0, 0, 0, 0, 0, 0, 0, 0, 0, 0, 0, 0, 0, 0, 0, 0, 0, 0, 1, 0, 0, 0]\n",
      "[10, 61, 2006, 40]\n",
      "[10, 0.0021668472372697724, 0.7894736842105263, 0.006022235948116121, 0, 0, 1, 0, 0, 0, 0, 0, 0, 1, 0, 0, 0, 0, 0, 0, 0, 0, 0, 0, 1, 0, 1, 0, 0, 1, 0, 0, 0, 0, 0, 0, 0, 0, 0, 0, 0, 0, 0, 0, 0, 0, 0, 0, 0, 0, 0, 0, 0, 0, 0, 0, 0, 0, 0, 0, 0, 0, 0, 0, 0, 0, 0, 0, 0, 0, 0, 0, 0, 0, 0, 0, 0, 0, 1, 0, 0, 0]\n",
      "[11, 32, 1999, 249]\n",
      "[11, 0.001119537739256049, 0.6973684210526315, 0.03829524397776405, 0, 1, 0, 0, 0, 0, 0, 0, 1, 0, 0, 0, 0, 0, 0, 0, 0, 0, 0, 0, 1, 1, 1, 0, 0, 0, 0, 0, 0, 0, 0, 0, 0, 0, 0, 0, 0, 0, 0, 0, 0, 0, 0, 0, 0, 0, 0, 0, 0, 0, 0, 0, 0, 0, 0, 0, 0, 0, 0, 0, 0, 0, 1, 0, 0, 0, 0, 0, 0, 0, 0, 0, 0, 0, 1, 0, 0, 0]\n",
      "[12, 344, 1968, 171]\n",
      "[12, 0.012387143373058867, 0.2894736842105263, 0.02625077208153181, 0, 1, 0, 0, 0, 0, 1, 0, 0, 0, 0, 0, 0, 0, 1, 0, 0, 0, 0, 0, 1, 0, 0, 0, 0, 0, 0, 0, 0, 0, 0, 0, 0, 0, 0, 0, 0, 0, 0, 0, 0, 0, 0, 0, 0, 0, 0, 0, 0, 0, 0, 0, 0, 0, 0, 0, 0, 0, 0, 0, 0, 0, 0, 0, 1, 0, 0, 0, 0, 0, 0, 0, 0, 0, 0, 0, 0, 1]\n",
      "[13, 127, 2012, 40]\n",
      "[13, 0.004550379198266522, 0.868421052631579, 0.006022235948116121, 0, 0, 1, 0, 0, 0, 0, 0, 0, 1, 0, 0, 0, 0, 0, 0, 0, 1, 0, 0, 1, 0, 0, 0, 0, 0, 0, 0, 0, 0, 0, 0, 0, 0, 0, 0, 0, 0, 0, 0, 0, 0, 0, 0, 0, 0, 0, 0, 0, 0, 0, 1, 0, 0, 0, 0, 0, 0, 0, 0, 0, 0, 0, 0, 0, 0, 0, 0, 0, 0, 0, 0, 0, 0, 1, 0, 0, 0]\n",
      "[14, 232, 2007, 40]\n",
      "[14, 0.008342361863488624, 0.8026315789473685, 0.006022235948116121, 0, 0, 1, 0, 0, 0, 1, 0, 0, 0, 0, 0, 0, 0, 0, 0, 0, 0, 0, 0, 1, 0, 0, 0, 0, 0, 0, 0, 0, 0, 0, 1, 0, 0, 0, 0, 0, 0, 0, 0, 0, 0, 0, 0, 0, 0, 0, 0, 1, 0, 0, 0, 0, 0, 0, 0, 0, 0, 0, 0, 0, 0, 0, 0, 0, 0, 0, 0, 1, 0, 0, 0, 0, 0, 1, 0, 0, 0]\n",
      "[15, 25, 2015, 40]\n",
      "[15, 0.000866738894907909, 0.9078947368421053, 0.006022235948116121, 0, 0, 1, 0, 0, 1, 0, 0, 0, 0, 0, 0, 0, 0, 0, 0, 0, 0, 0, 0, 0, 0, 0, 0, 0, 0, 0, 0, 0, 0, 0, 0, 0, 0, 0, 0, 0, 0, 0, 0, 0, 0, 0, 0, 0, 0, 0, 0, 0, 0, 0, 0, 0, 0, 0, 0, 0, 0, 0, 0, 0, 0, 0, 1, 0, 0, 1, 0, 0, 0, 0, 0, 0, 0, 1, 0, 0, 0]\n",
      "[16, 57, 1996, 208]\n",
      "[16, 0.002022390754785121, 0.6578947368421053, 0.03196417541692403, 0, 1, 0, 0, 0, 1, 0, 0, 0, 1, 0, 0, 0, 0, 0, 0, 0, 0, 0, 1, 1, 0, 0, 0, 0, 0, 0, 0, 0, 0, 0, 0, 0, 0, 0, 0, 0, 0, 0, 1, 0, 0, 0, 0, 0, 0, 0, 0, 0, 0, 0, 0, 0, 0, 0, 1, 0, 0, 0, 0, 0, 0, 0, 1, 0, 0, 0, 0, 0, 0, 0, 0, 0, 0, 0, 0, 0, 1]\n",
      "[17, 64, 2003, 40]\n",
      "[17, 0.002275189599133261, 0.75, 0.006022235948116121, 0, 0, 1, 0, 0, 1, 1, 0, 0, 0, 0, 0, 0, 0, 0, 0, 0, 0, 0, 0, 0, 0, 0, 0, 0, 0, 0, 0, 0, 0, 0, 0, 0, 0, 0, 0, 0, 0, 0, 0, 0, 0, 0, 0, 0, 0, 0, 0, 1, 0, 0, 0, 0, 0, 0, 0, 0, 0, 0, 0, 0, 0, 0, 0, 0, 0, 0, 0, 1, 0, 0, 0, 0, 0, 0, 0, 0, 0]\n",
      "[18, 199, 1999, 40]\n",
      "[18, 0.0071505958829902495, 0.6973684210526315, 0.006022235948116121, 0, 0, 1, 0, 0, 0, 0, 0, 0, 0, 0, 0, 0, 0, 1, 0, 0, 0, 0, 0, 1, 0, 0, 0, 0, 0, 0, 0, 0, 0, 0, 0, 0, 0, 0, 0, 0, 0, 1, 0, 0, 0, 0, 0, 0, 0, 0, 0, 0, 0, 0, 0, 0, 0, 0, 0, 0, 0, 0, 0, 0, 0, 1, 0, 0, 0, 0, 0, 0, 0, 0, 0, 0, 0, 1, 0, 0, 0]\n",
      "[19, 20, 2013, 64]\n",
      "[19, 0.0006861682918020947, 0.881578947368421, 0.009728227300802965, 0, 1, 0, 0, 0, 0, 0, 0, 0, 0, 0, 0, 0, 0, 0, 0, 0, 0, 0, 0, 1, 0, 0, 0, 0, 0, 0, 0, 0, 0, 0, 0, 0, 0, 0, 0, 0, 0, 0, 0, 0, 0, 0, 0, 0, 0, 0, 0, 0, 0, 0, 0, 0, 0, 0, 0, 0, 0, 0, 0, 0, 0, 0, 0, 0, 0, 1, 0, 0, 0, 0, 0, 0, 0, 0, 0, 0, 1]\n"
     ]
    }
   ],
   "source": [
    "for i in range(20):\n",
    "    print(rawFeaturesThatWereNormalized[i])\n",
    "    print(encodedManga[i])"
   ]
  },
  {
   "cell_type": "code",
   "execution_count": 70,
   "id": "69276c3c",
   "metadata": {},
   "outputs": [],
   "source": [
    "for i in range(len(manga)):\n",
    "    manga[i] = list(manga[i])\n",
    "    del manga[i][3]  # drop description for ease of viewing output"
   ]
  },
  {
   "cell_type": "code",
   "execution_count": 55,
   "id": "bd236b8f",
   "metadata": {},
   "outputs": [],
   "source": [
    "np.save('get_manga_array_index', get_manga_array_index)"
   ]
  },
  {
   "cell_type": "code",
   "execution_count": 71,
   "id": "6b863cca",
   "metadata": {},
   "outputs": [],
   "source": [
    "with open('manga_raw.pkl', 'wb') as f:\n",
    "    pickle.dump(manga, f)"
   ]
  },
  {
   "cell_type": "code",
   "execution_count": 54,
   "id": "02e12500",
   "metadata": {},
   "outputs": [],
   "source": [
    "get_manga_array_index = np.full(shape=10000, fill_value=-1, dtype=int)\n",
    "for i in range(len(manga)):\n",
    "    get_manga_array_index[manga[i][0]] = i"
   ]
  },
  {
   "cell_type": "code",
   "execution_count": 60,
   "id": "6792ff19",
   "metadata": {},
   "outputs": [
    {
     "name": "stdout",
     "output_type": "stream",
     "text": [
      "[1, 0, 0, 0, 1, 0, 0, 0, 0, 1, 1, 0, 0, 0, 0, 0, 1, 1, 0, 0, 1, 0, 0, 0, 0, 1, 0, 0, 0, 0, 0, 0, 0, 1, 0, 0, 0, 0, 0, 0, 0, 0, 0, 0, 0, 0, 0, 0, 0, 0, 0, 0, 0, 0, 0, 0, 0, 0, 0, 0, 0, 1, 1, 0, 0, 0, 0, 0, 0, 0, 0, 0, 0, 0, 1, 0, 0, 0]\n",
      "[0, 2, 1989, 380]\n"
     ]
    }
   ],
   "source": [
    "print(encodedManga[0][4:])\n",
    "print(rawFeaturesThatWereNormalized[0][:4])"
   ]
  },
  {
   "cell_type": "code",
   "execution_count": 2,
   "id": "c1a558c5",
   "metadata": {},
   "outputs": [],
   "source": [
    "imagesMap = os.listdir('H:/manga_rec/manga_rec_back_end/manga_images/images')"
   ]
  },
  {
   "cell_type": "code",
   "execution_count": 3,
   "id": "8bb752e9",
   "metadata": {},
   "outputs": [],
   "source": [
    "np.save('imagesMap', imagesMap)"
   ]
  },
  {
   "cell_type": "code",
   "execution_count": null,
   "id": "272807cf",
   "metadata": {},
   "outputs": [],
   "source": [
    "dataBase = mysql.connector.connect(\n",
    "    host=\"washington.uww.edu\",\n",
    "    user=\"stremmeltr18\",\n",
    "    passwd=base64.b64decode(b'dHM1NjEy').decode(\"utf-8\"),\n",
    "    database=\"manga_rec\"\n",
    ")\n",
    "myCursor = dataBase.cursor()\n",
    "\n",
    "convertRati"
   ]
  }
 ],
 "metadata": {
  "kernelspec": {
   "display_name": "Python 3 (ipykernel)",
   "language": "python",
   "name": "python3"
  },
  "language_info": {
   "codemirror_mode": {
    "name": "ipython",
    "version": 3
   },
   "file_extension": ".py",
   "mimetype": "text/x-python",
   "name": "python",
   "nbconvert_exporter": "python",
   "pygments_lexer": "ipython3",
   "version": "3.7.13"
  }
 },
 "nbformat": 4,
 "nbformat_minor": 5
}
