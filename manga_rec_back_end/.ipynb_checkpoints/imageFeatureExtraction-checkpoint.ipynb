{
 "cells": [
  {
   "cell_type": "code",
   "execution_count": 1,
   "id": "b4436f05",
   "metadata": {},
   "outputs": [],
   "source": [
    "from torchvision import models\n",
    "from torchvision import transforms\n",
    "import torch\n",
    "from PIL import Image\n",
    "import numpy as np\n",
    "import pandas as pd\n",
    "import matplotlib.pyplot as plt\n",
    "#import seaborn as sns\n",
    "from keras.preprocessing.image import ImageDataGenerator\n",
    "from sklearn.preprocessing import StandardScaler\n",
    "from tensorflow.keras.preprocessing import image\n",
    "from keras.models import Sequential\n",
    "from keras.layers import Dropout, Flatten, Dense\n",
    "from keras import applications\n",
    "from sklearn.metrics import pairwise_distances\n",
    "from scipy.cluster.hierarchy import dendrogram, linkage\n",
    "from sklearn.cluster import AgglomerativeClustering\n",
    "from sklearn.cluster import KMeans\n",
    "import requests\n",
    "import pickle\n",
    "import time\n",
    "import math\n",
    "import os\n",
    "import base64\n",
    "import mysql.connector\n",
    "import networkx as nx"
   ]
  },
  {
   "cell_type": "code",
   "execution_count": 110,
   "id": "07ef61aa",
   "metadata": {},
   "outputs": [
    {
     "name": "stdout",
     "output_type": "stream",
     "text": [
      "<PIL.Image.Image image mode=RGB size=224x224 at 0x1AD11919CC8>\n",
      "(224, 224, 3)\n",
      "(5846, 224, 224, 3)\n"
     ]
    }
   ],
   "source": [
    "#preprocessing for resnet V1\n",
    "image_one = Image.open('manga_images/images/0.jpg')\n",
    "image_one\n",
    "files = os.listdir('H:/manga_rec/manga_rec_back_end/manga_images/images')\n",
    "test_image = image.load_img('manga_images/images/0.jpg', target_size = (224, 224))\n",
    "print(test_image)\n",
    "images = []\n",
    "for i in range(len(files)):\n",
    "    images.append(image.img_to_array(image.load_img('manga_images/images/{}'.format(files[i]), target_size = (224, 224))))\n",
    "print(images[1].shape)\n",
    "preProcessedImages = applications.resnet.preprocess_input(np.array(images))\n",
    "print(preProcessedImages.shape)"
   ]
  },
  {
   "cell_type": "code",
   "execution_count": 112,
   "id": "11e573ad",
   "metadata": {},
   "outputs": [
    {
     "name": "stdout",
     "output_type": "stream",
     "text": [
      "183/183 [==============================] - 235s 1s/step\n",
      "Time taken in feature extraction 242.0187726020813\n",
      "(5846, 2048)\n"
     ]
    }
   ],
   "source": [
    "#feature extraction for resnet V1\n",
    "start_time = time.time()\n",
    "model = applications.ResNet50(include_top=False, weights='imagenet', pooling='max')\n",
    "extracted_features_pooled = model.predict(preProcessedImages)\n",
    "print(\"Time taken in feature extraction\", time.time()-start_time)\n",
    "print(extracted_features_pooled.shape)\n",
    "np.save(open('image_saved_data/ResNet50Max_features.npy', 'wb'), extracted_features_pooled)"
   ]
  },
  {
   "cell_type": "code",
   "execution_count": 109,
   "id": "afdaf42a",
   "metadata": {},
   "outputs": [
    {
     "name": "stdout",
     "output_type": "stream",
     "text": [
      "(224, 224, 3)\n",
      "(5846, 224, 224, 3)\n",
      "183/183 [==============================] - 223s 1s/step\n",
      "Time taken in feature extraction 226.53215098381042\n",
      "(5846, 2048)\n"
     ]
    }
   ],
   "source": [
    "#preprocessing and feature extraction for resnet V2\n",
    "files = os.listdir('H:/manga_rec/manga_rec_back_end/manga_images/images')\n",
    "images = []\n",
    "for i in range(len(files)):\n",
    "    images.append(image.img_to_array(image.load_img('manga_images/images/{}'.format(files[i]), target_size = (224, 224))))\n",
    "print(images[1].shape)\n",
    "preProcessedImagesV2 = applications.resnet_v2.preprocess_input(np.array(images))\n",
    "print(preProcessedImagesV2.shape)\n",
    "start_time = time.time()\n",
    "model = applications.ResNet50V2(include_top=False, weights='imagenet', pooling='avg')\n",
    "extracted_features_pooled = model.predict(preProcessedImagesV2)\n",
    "print(\"Time taken in feature extraction\", time.time()-start_time)\n",
    "print(extracted_features_pooled.shape)\n",
    "np.save(open('image_saved_data/ResNet50V2Avg_features.npy', 'wb'), extracted_features_pooled)"
   ]
  },
  {
   "cell_type": "code",
   "execution_count": null,
   "id": "52815621",
   "metadata": {
    "scrolled": true
   },
   "outputs": [],
   "source": [
    "for i in range(len(extracted_features_raw[0])):\n",
    "    print(extracted_features_raw[10][i])"
   ]
  },
  {
   "cell_type": "code",
   "execution_count": 47,
   "id": "311bda05",
   "metadata": {},
   "outputs": [],
   "source": [
    "img_width, img_height = 224, 224\n",
    "#img_width, img_height = 42, 62\n",
    "\n",
    "#top_model_weights_path = 'resnet50_weights_tf_dim_ordering_tf_kernels_notop.h5'\n",
    "train_data_dir = 'H:/manga_rec/manga_rec_back_end/manga_images'\n",
    "\n",
    "\n",
    "def new_extract_features():\n",
    "    files = os.listdir('H:/manga_rec/manga_rec_back_end/manga_images/images')\n",
    "    images = []\n",
    "    for i in range(len(files)):\n",
    "        images.append(image.img_to_array(image.load_img('manga_images/images/{}'.format(files[i]), target_size = (224, 224))))\n",
    "    images = np.array(images)\n",
    "    preProcessedImages = applications.resnet.preprocess_input(images)\n",
    "    model = applications.ResNet50(include_top=False, weights='imagenet')\n",
    "    extracted_features_raw = model.predict(images)\n",
    "    print(extracted_features_raw.shape)\n",
    "\n",
    "nb_train_samples = 5846\n",
    "epochs = 50\n",
    "batch_size = 16\n",
    "\n",
    "def extract_features():\n",
    "    Itemcodes = []\n",
    "    datagen = ImageDataGenerator(rescale=1. / 255)\n",
    "    model = applications.ResNet50(include_top=False, weights='imagenet')\n",
    "    generator = datagen.flow_from_directory(\n",
    "        train_data_dir,\n",
    "        target_size=(img_width, img_height),\n",
    "        batch_size=batch_size,\n",
    "        class_mode=None,\n",
    "        shuffle=False)\n",
    "#     for i in generator.filenames:\n",
    "#         Itemcodes.append(i[(i.find(\"/\")+1):i.find(\".\")]) #hopefully this is done in order else maybe\n",
    "    print()\n",
    "    extracted_features_raw = model.predict(generator, nb_train_samples // batch_size)\n",
    "    print(extracted_features_raw.shape)\n",
    "    print(extracted_features_raw)\n",
    "    extracted_features = extracted_features_raw.reshape((nb_train_samples, 100352))\n",
    "    print(extracted_features.shape)\n",
    "    print(extracted_features)\n",
    "    \n",
    "    np.save(open('image_saved_data/ResNet50V2_features.npy', 'wb'), extracted_features)\n",
    "    #np.save(open('image_saved_data/ResNet_feature_image_ids.npy', 'wb'), np.array(Itemcodes)) #should be able to map back to manga ids"
   ]
  },
  {
   "cell_type": "code",
   "execution_count": 48,
   "id": "d62cdf93",
   "metadata": {},
   "outputs": [
    {
     "name": "stdout",
     "output_type": "stream",
     "text": [
      "183/183 [==============================] - 256s 1s/step\n",
      "(5846, 7, 7, 2048)\n",
      "Time taken in feature extraction 279.33041048049927\n"
     ]
    }
   ],
   "source": [
    "start_time = time.time()\n",
    "new_extract_features()\n",
    "print(\"Time taken in feature extraction\", time.time()-start_time)"
   ]
  },
  {
   "cell_type": "code",
   "execution_count": null,
   "id": "aad78b06",
   "metadata": {
    "scrolled": true
   },
   "outputs": [],
   "source": [
    "for i in range(len(extracted_features[0])):\n",
    "    print(extracted_features[100][i])"
   ]
  },
  {
   "cell_type": "code",
   "execution_count": 14,
   "id": "46c64bc4",
   "metadata": {},
   "outputs": [
    {
     "name": "stdout",
     "output_type": "stream",
     "text": [
      "[0.48549715 0.18504243 0.16705292 ... 0.32588768 0.76481986 0.        ]\n"
     ]
    }
   ],
   "source": [
    "#important loading****************************\n",
    "extracted_features = np.load('image_saved_data/ResNet50Avg_features.npy')\n",
    "imagesMap = os.listdir('H:/manga_rec/manga_rec_back_end/manga_images/images')\n",
    "id_title_map = pd.read_csv('H:/manga_rec/manga_rec_back_end/manga_results/manga_ids.csv', header=None).set_index(0).T.to_dict('list')\n",
    "#image_ids = np.load('image_saved_data/ResNet_feature_image_ids.npy')\n",
    "#image_ids = list(image_ids)\n",
    "print(extracted_features[1])"
   ]
  },
  {
   "cell_type": "code",
   "execution_count": 15,
   "id": "21022fbe",
   "metadata": {},
   "outputs": [],
   "source": [
    "def get_similar_manga_cnn(features, manga_id, num_results):\n",
    "    #doc_id = image_ids.index(manga_id)\n",
    "    image_index = imagesMap.index('{}.jpg'.format(manga_id))\n",
    "    pairwise_dist = pairwise_distances(features, features[image_index].reshape(1,-1))\n",
    "    indices = np.argsort(pairwise_dist.flatten())[0:num_results]\n",
    "    pdists  = np.sort(pairwise_dist.flatten())[0:num_results]\n",
    "    print(\"=\"*20, \"input image\", \"=\"*20)\n",
    "    print('Manga id: {}, Manga Title: {}'.format(manga_id, id_title_map[manga_id]))\n",
    "    display(Image.open('H:/manga_rec/manga_rec_back_end/manga_images/images/{}.jpg'.format(manga_id)))\n",
    "    \n",
    "    print(\"\\n\",\"=\"*20, \"Recommended products\", \"=\"*20)\n",
    "    for i in range(0,len(indices)):\n",
    "        print('i: {}, indices[i]: {}, pdists[i]: {}, Manga id: {}, Manga Title: {}'.format(i, indices[i], pdists[i], int(imagesMap[indices[i]][:-4]), id_title_map[int(imagesMap[indices[i]][:-4])]))\n",
    "        display(Image.open('H:/manga_rec/manga_rec_back_end/manga_images/images/{}'.format(imagesMap[indices[i]])))"
   ]
  },
  {
   "cell_type": "code",
   "execution_count": 16,
   "id": "4171fdf8",
   "metadata": {
    "scrolled": true
   },
   "outputs": [
    {
     "name": "stdout",
     "output_type": "stream",
     "text": [
      "==================== input image ====================\n",
      "Manga id: 59, Manga Title: ['JoJo no Kimyou na Bouken Part 4: Diamond wa Kudakenai']\n"
     ]
    },
    {
     "data": {
      "image/png": "[encoded data removed]",
      "text/plain": [
       "<PIL.JpegImagePlugin.JpegImageFile image mode=RGB size=42x62>"
      ]
     },
     "metadata": {},
     "output_type": "display_data"
    },
    {
     "name": "stdout",
     "output_type": "stream",
     "text": [
      "\n",
      " ==================== Recommended products ====================\n",
      "i: 0, indices[i]: 3837, pdists[i]: 2.336015541004599e-06, Manga id: 59, Manga Title: ['JoJo no Kimyou na Bouken Part 4: Diamond wa Kudakenai']\n"
     ]
    },
    {
     "data": {
      "image/png": "[encoded data removed]",
      "text/plain": [
       "<PIL.JpegImagePlugin.JpegImageFile image mode=RGB size=42x62>"
      ]
     },
     "metadata": {},
     "output_type": "display_data"
    },
    {
     "name": "stdout",
     "output_type": "stream",
     "text": [
      "i: 1, indices[i]: 1417, pdists[i]: 2.336015541004599e-06, Manga id: 253, Manga Title: ['JoJo no Kimyou na Bouken Part 6: Stone Ocean']\n"
     ]
    },
    {
     "data": {
      "image/png": "[encoded data removed]",
      "text/plain": [
       "<PIL.JpegImagePlugin.JpegImageFile image mode=RGB size=42x62>"
      ]
     },
     "metadata": {},
     "output_type": "display_data"
    },
    {
     "name": "stdout",
     "output_type": "stream",
     "text": [
      "i: 2, indices[i]: 2427, pdists[i]: 31.472318649291992, Manga id: 381, Manga Title: ['JoJo no Kimyou na Bouken Part 3: Stardust Crusaders']\n"
     ]
    },
    {
     "data": {
      "image/png": "[encoded data removed]",
      "text/plain": [
       "<PIL.JpegImagePlugin.JpegImageFile image mode=RGB size=42x62>"
      ]
     },
     "metadata": {},
     "output_type": "display_data"
    },
    {
     "name": "stdout",
     "output_type": "stream",
     "text": [
      "i: 3, indices[i]: 1973, pdists[i]: 31.472318649291992, Manga id: 323, Manga Title: ['JoJo no Kimyou na Bouken Part 2: Sentou Chouryuu']\n"
     ]
    },
    {
     "data": {
      "image/png": "[encoded data removed]",
      "text/plain": [
       "<PIL.JpegImagePlugin.JpegImageFile image mode=RGB size=42x62>"
      ]
     },
     "metadata": {},
     "output_type": "display_data"
    },
    {
     "name": "stdout",
     "output_type": "stream",
     "text": [
      "i: 4, indices[i]: 4606, pdists[i]: 32.07590866088867, Manga id: 7261, Manga Title: ['BlazBlue: Variable Heart']\n"
     ]
    },
    {
     "data": {
      "image/png": "[encoded data removed]",
      "text/plain": [
       "<PIL.JpegImagePlugin.JpegImageFile image mode=RGB size=42x62>"
      ]
     },
     "metadata": {},
     "output_type": "display_data"
    },
    {
     "name": "stdout",
     "output_type": "stream",
     "text": [
      "i: 5, indices[i]: 5529, pdists[i]: 32.27310562133789, Manga id: 9266, Manga Title: ['Saikyou no Madoushi. Hiza ni Ya wo Uketeshimatta node Inaka no Eihei ni Naru']\n"
     ]
    },
    {
     "data": {
      "image/png": "[encoded data removed]",
      "text/plain": [
       "<PIL.JpegImagePlugin.JpegImageFile image mode=RGB size=42x62>"
      ]
     },
     "metadata": {},
     "output_type": "display_data"
    },
    {
     "name": "stdout",
     "output_type": "stream",
     "text": [
      "i: 6, indices[i]: 4858, pdists[i]: 32.580013275146484, Manga id: 7732, Manga Title: ['Herscherik: Tensei Ouji no Eiyuutan']\n"
     ]
    },
    {
     "data": {
      "image/png": "[encoded data removed]",
      "text/plain": [
       "<PIL.JpegImagePlugin.JpegImageFile image mode=RGB size=42x62>"
      ]
     },
     "metadata": {},
     "output_type": "display_data"
    },
    {
     "name": "stdout",
     "output_type": "stream",
     "text": [
      "i: 7, indices[i]: 4102, pdists[i]: 32.59177780151367, Manga id: 638, Manga Title: ['Be Blues! Ao ni Nare']\n"
     ]
    },
    {
     "data": {
      "image/png": "[encoded data removed]",
      "text/plain": [
       "<PIL.JpegImagePlugin.JpegImageFile image mode=RGB size=42x62>"
      ]
     },
     "metadata": {},
     "output_type": "display_data"
    },
    {
     "name": "stdout",
     "output_type": "stream",
     "text": [
      "i: 8, indices[i]: 1143, pdists[i]: 32.90299987792969, Manga id: 2226, Manga Title: ['Monster Collection: Majuu Tsukai no Shoujo']\n"
     ]
    },
    {
     "data": {
      "image/png": "[encoded data removed]",
      "text/plain": [
       "<PIL.JpegImagePlugin.JpegImageFile image mode=RGB size=42x62>"
      ]
     },
     "metadata": {},
     "output_type": "display_data"
    },
    {
     "name": "stdout",
     "output_type": "stream",
     "text": [
      "i: 9, indices[i]: 1263, pdists[i]: 33.16667556762695, Manga id: 2354, Manga Title: ['Satou-kun no Juunan Seikatsu']\n"
     ]
    },
    {
     "data": {
      "image/png": "[encoded data removed]",
      "text/plain": [
       "<PIL.JpegImagePlugin.JpegImageFile image mode=RGB size=42x62>"
      ]
     },
     "metadata": {},
     "output_type": "display_data"
    }
   ],
   "source": [
    "#say you want the manga with the index 20 in the database (haikyuu)\n",
    "#you can do the following to get its index in the extracted_features array\n",
    "#print(imagesMap.index('20.jpg'))\n",
    "#id_title_map[int(imagesMap[757][:-4])]\n",
    "get_similar_manga_cnn(extracted_features, 59, 10)"
   ]
  },
  {
   "cell_type": "code",
   "execution_count": 157,
   "id": "cdbf81d7",
   "metadata": {},
   "outputs": [],
   "source": [
    "extracted_features = np.load('image_saved_data/ResNet152V2Avg_features.npy')"
   ]
  },
  {
   "cell_type": "code",
   "execution_count": 158,
   "id": "1af22c0f",
   "metadata": {},
   "outputs": [
    {
     "name": "stdout",
     "output_type": "stream",
     "text": [
      "[39 31 12 ... 76  5 33]\n",
      "<class 'numpy.ndarray'>\n",
      "Time taken for hierarchiacal clustering 23.457002878189087\n"
     ]
    }
   ],
   "source": [
    "# runs hierarchical clustering ***************************\n",
    "start_time = time.time()\n",
    "hierarchical_cluster = AgglomerativeClustering(n_clusters=100, affinity='euclidean', linkage='ward')\n",
    "labels = hierarchical_cluster.fit_predict(extracted_features)\n",
    "print(labels)\n",
    "print(type(labels))\n",
    "print(\"Time taken for hierarchiacal clustering\", time.time()-start_time)\n",
    "np.save(open('image_saved_data/ResNet152V2Avg_100HierarchicalClusters.npy', 'wb'), labels)"
   ]
  },
  {
   "cell_type": "code",
   "execution_count": 159,
   "id": "96b84288",
   "metadata": {},
   "outputs": [],
   "source": [
    "# kmeans\n",
    "scaler = StandardScaler()\n",
    "scaled_features = scaler.fit_transform(extracted_features)"
   ]
  },
  {
   "cell_type": "code",
   "execution_count": 160,
   "id": "10678934",
   "metadata": {},
   "outputs": [
    {
     "name": "stdout",
     "output_type": "stream",
     "text": [
      "Time taken for kmeans fitting 48.674548625946045\n",
      "Time taken for kmeans clustering 48.703484773635864\n"
     ]
    }
   ],
   "source": [
    "# kmeans\n",
    "start_time = time.time()\n",
    "kmeans = KMeans(n_clusters=100, random_state=0).fit(scaled_features)\n",
    "print(\"Time taken for kmeans fitting\", time.time()-start_time)\n",
    "np.save(open('image_saved_data/ResNet152V2Avg_100KmeansClustersScaled.npy', 'wb'), kmeans.predict(scaled_features))\n",
    "print(\"Time taken for kmeans clustering\", time.time()-start_time)"
   ]
  },
  {
   "cell_type": "code",
   "execution_count": 161,
   "id": "b19e13f3",
   "metadata": {},
   "outputs": [
    {
     "name": "stdout",
     "output_type": "stream",
     "text": [
      "Time taken for kmeans fitting 48.60539126396179\n",
      "Time taken for kmeans clustering 48.63431406021118\n"
     ]
    }
   ],
   "source": [
    "# kmeans\n",
    "start_time = time.time()\n",
    "kmeans = KMeans(n_clusters=100, random_state=0).fit(extracted_features)\n",
    "print(\"Time taken for kmeans fitting\", time.time()-start_time)\n",
    "np.save(open('image_saved_data/ResNet152V2Avg_100KmeansClustersBase.npy', 'wb'), kmeans.predict(extracted_features))\n",
    "print(\"Time taken for kmeans clustering\", time.time()-start_time)"
   ]
  },
  {
   "cell_type": "code",
   "execution_count": 224,
   "id": "ca5ee722",
   "metadata": {},
   "outputs": [],
   "source": [
    "#important loading****************************\n",
    "imagesMap = os.listdir('H:/manga_rec/manga_rec_back_end/manga_images/images')\n",
    "id_title_map = pd.read_csv('H:/manga_rec/manga_rec_back_end/manga_results/manga_ids.csv', header=None).set_index(0).T.to_dict('list')\n",
    "KmeansClustersScaled_100 = np.load('image_saved_data/ResNet50Avg_100KmeansClustersScaled.npy')\n",
    "KmeansClustersBase_100 = np.load('image_saved_data/ResNet50Avg_100KmeansClustersBase.npy')\n",
    "HierarchicalClusters_100 = np.load('image_saved_data/ResNet50Avg_100HierarchicalClusters.npy')"
   ]
  },
  {
   "cell_type": "code",
   "execution_count": 21,
   "id": "7001a48d",
   "metadata": {},
   "outputs": [],
   "source": [
    "def convertRating(ratingTuple):\n",
    "    mangaId = ratingTuple[2]\n",
    "    status = ratingTuple[3]\n",
    "    originalRating = ratingTuple[4]\n",
    "\n",
    "    if originalRating is not None:\n",
    "        if originalRating >= 7:\n",
    "            return mangaId, 5  # 5\n",
    "        if originalRating >= 5:\n",
    "            return mangaId, 3  # 3\n",
    "        else:  # if rating < 5\n",
    "            return mangaId, 2  # 2\n",
    "    if status == 'reading' or status == 'completed':\n",
    "        return mangaId, 4  # 4\n",
    "    if status == 'plan_to_read':\n",
    "        return mangaId, 4  # 4\n",
    "    if status == 'on_hold':\n",
    "        return mangaId, 3  # 3\n",
    "    if status == 'dropped':\n",
    "        return mangaId, 2  # 2\n",
    "    if status == 'not interested':\n",
    "        return mangaId, 1\n",
    "    return mangaId, 4"
   ]
  },
  {
   "cell_type": "code",
   "execution_count": 71,
   "id": "5e956cc8",
   "metadata": {},
   "outputs": [],
   "source": [
    "def manga_index(manga_id): #convert manga_id (from database) to manga_index in the extracted_features array\n",
    "    return imagesMap.index('{}.jpg'.format(manga_id))\n",
    "\n",
    "def get_concat_h(im1, im2):\n",
    "    dst = Image.new('RGB', (im1.width + im2.width, im1.height))\n",
    "    dst.paste(im1, (0, 0))\n",
    "    dst.paste(im2, (im1.width, 0))\n",
    "    return dst\n",
    "def concat_images(images):\n",
    "    rows = math.ceil(len(images)/20)\n",
    "    for row in range(rows):\n",
    "        dst = Image.new('RGB', (min(images[0].width*20, images[0].width*(len(images) - (row*20))), images[0].height))\n",
    "        #print(min(images[0].width*20, images[0].width*(len(images) - (row*20))))\n",
    "#         for i in range((row*20), min((row*20)+20, len(images))):\n",
    "#             print(i)\n",
    "#             display(images[i])\n",
    "        for i in range(min(20, (len(images)-(row*20)))):\n",
    "            dst.paste(images[i+(row*20)], (images[0].width*i, 0))\n",
    "        display(dst)\n",
    "\n",
    "def display_all_clusters(clusters, numClusters):\n",
    "    for i in range(numClusters):\n",
    "        print(\"=\"*20, \"cluster index: {}\".format(i), \"=\"*20)\n",
    "        display_manga_images_from_Cluster(i, clusters)\n",
    "def display_manga_titles_from_Cluster(cluster, clusters):\n",
    "    for i in range(len(clusters)):\n",
    "        if clusters[i] == cluster:\n",
    "            print('Manga id: {}, Manga Title: {}'.format(imagesMap[i][:-4], id_title_map[int(imagesMap[i][:-4])]))\n",
    "def display_manga_from_Cluster(cluster, clusters):\n",
    "    for i in range(len(clusters)):\n",
    "        if clusters[i] == cluster:\n",
    "            display(Image.open('H:/manga_rec/manga_rec_back_end/manga_images/images/{}'.format(imagesMap[i])))\n",
    "            print('Manga id: {}, Manga Title: {}'.format(imagesMap[i][:-4], id_title_map[int(imagesMap[i][:-4])]))\n",
    "def display_manga_images_from_Cluster(cluster, clusters):\n",
    "    img_ids = []\n",
    "    images = []\n",
    "    for i in range(len(clusters)):\n",
    "        if clusters[i] == cluster:\n",
    "            img_ids.append(i)\n",
    "    for i in img_ids:\n",
    "        images.append(Image.open('H:/manga_rec/manga_rec_back_end/manga_images/images/{}'.format(imagesMap[i])))\n",
    "        #display(Image.open('H:/manga_rec/manga_rec_back_end/manga_images/images/{}'.format(imagesMap[i])))\n",
    "    concat_images(images)\n",
    "    \n",
    "def display_manga_from_highestRatedClusters(clusterScores, clusters):\n",
    "    print('clusterScores after', clusterScores)\n",
    "    highestClusterScore = max(clusterScores)\n",
    "    print('highestClusterScore', highestClusterScore)\n",
    "    highestRatedClusters = [i for i, x in enumerate(clusterScores) if x == highestClusterScore]\n",
    "    print(highestRatedClusters)\n",
    "    #display_manga_from_highestRatedClusters(highestRatedClusters, clusters)\n",
    "    for cluster in highestRatedClusters:\n",
    "        print(\"=\"*20, \"cluster index: {}, cluster score: {}\".format(cluster, clusterScores[cluster]), \"=\"*20)\n",
    "        #print all images in this cluster\n",
    "        display_manga_titles_from_Cluster(cluster, clusters)\n",
    "        display_manga_images_from_Cluster(cluster, clusters)\n",
    "\n",
    "def recommendFromClusters(userId, clusters, numClusters):\n",
    "    dataBase = mysql.connector.connect(\n",
    "        host=\"washington.uww.edu\",\n",
    "        user=\"stremmeltr18\",\n",
    "        passwd=base64.b64decode(b'dHM1NjEy').decode(\"utf-8\"),\n",
    "        database=\"manga_rec\"\n",
    "    )\n",
    "    myCursor = dataBase.cursor()\n",
    "    myCursor.execute(\"select * from ratings where userId = %s;\", [userId])\n",
    "    ratings = [x for x in myCursor]\n",
    "    convertedRatings = [convertRating(x) for x in ratings]\n",
    "    print(convertedRatings)\n",
    "    \n",
    "    clusterScores = [0] * numClusters\n",
    "    for manga in convertedRatings:\n",
    "#         print('manga', manga_index(manga[0]))\n",
    "        clusterScores[clusters[manga_index(manga[0])]] += (manga[1] - 2)#1 # use to include ratings -> (manga[1] - 2)\n",
    "        #does -2 so that 'negative' scores decrease the clusterScore for that manga\n",
    "    display_manga_from_highestRatedClusters(clusterScores, clusters)"
   ]
  },
  {
   "cell_type": "code",
   "execution_count": null,
   "id": "e005b164",
   "metadata": {},
   "outputs": [],
   "source": [
    "recommendFromClusters(17441, KmeansClustersBase_100, 100)"
   ]
  },
  {
   "cell_type": "code",
   "execution_count": 227,
   "id": "3eca004d",
   "metadata": {
    "scrolled": true
   },
   "outputs": [
    {
     "name": "stdout",
     "output_type": "stream",
     "text": [
      "[[  0  36]\n",
      " [  1  67]\n",
      " [  2  41]\n",
      " [  3  95]\n",
      " [  4  26]\n",
      " [  5  44]\n",
      " [  6 100]\n",
      " [  7  42]\n",
      " [  8  74]\n",
      " [  9  56]\n",
      " [ 10  45]\n",
      " [ 11   8]\n",
      " [ 12  92]\n",
      " [ 13  38]\n",
      " [ 14  64]\n",
      " [ 15  52]\n",
      " [ 16  76]\n",
      " [ 17  27]\n",
      " [ 18  31]\n",
      " [ 19  54]\n",
      " [ 20  79]\n",
      " [ 21  56]\n",
      " [ 22  88]\n",
      " [ 23  82]\n",
      " [ 24  38]\n",
      " [ 25  70]\n",
      " [ 26  65]\n",
      " [ 27  64]\n",
      " [ 28  69]\n",
      " [ 29  54]\n",
      " [ 30  52]\n",
      " [ 31  58]\n",
      " [ 32  46]\n",
      " [ 33  59]\n",
      " [ 34  54]\n",
      " [ 35  78]\n",
      " [ 36  76]\n",
      " [ 37  59]\n",
      " [ 38  63]\n",
      " [ 39  61]\n",
      " [ 40  44]\n",
      " [ 41  60]\n",
      " [ 42  96]\n",
      " [ 43  79]\n",
      " [ 44  81]\n",
      " [ 45  13]\n",
      " [ 46  41]\n",
      " [ 47  14]\n",
      " [ 48  80]\n",
      " [ 49  68]\n",
      " [ 50  42]\n",
      " [ 51  88]\n",
      " [ 52  62]\n",
      " [ 53  82]\n",
      " [ 54  53]\n",
      " [ 55  54]\n",
      " [ 56  52]\n",
      " [ 57  72]\n",
      " [ 58  60]\n",
      " [ 59  61]\n",
      " [ 60  55]\n",
      " [ 61  29]\n",
      " [ 62  70]\n",
      " [ 63  49]\n",
      " [ 64  80]\n",
      " [ 65  62]\n",
      " [ 66  57]\n",
      " [ 67  74]\n",
      " [ 68  29]\n",
      " [ 69  25]\n",
      " [ 70  69]\n",
      " [ 71  65]\n",
      " [ 72  46]\n",
      " [ 73 102]\n",
      " [ 74  39]\n",
      " [ 75 103]\n",
      " [ 76  64]\n",
      " [ 77  47]\n",
      " [ 78  61]\n",
      " [ 79  78]\n",
      " [ 80  60]\n",
      " [ 81  46]\n",
      " [ 82  57]\n",
      " [ 83  43]\n",
      " [ 84  67]\n",
      " [ 85  61]\n",
      " [ 86  12]\n",
      " [ 87  52]\n",
      " [ 88  48]\n",
      " [ 89  70]\n",
      " [ 90  64]\n",
      " [ 91  82]\n",
      " [ 92  78]\n",
      " [ 93  33]\n",
      " [ 94  45]\n",
      " [ 95 121]\n",
      " [ 96   6]\n",
      " [ 97  78]\n",
      " [ 98  25]\n",
      " [ 99  53]]\n",
      "121\n",
      "6\n",
      "21.67275709271896\n"
     ]
    }
   ],
   "source": [
    "unique, counts = np.unique(KmeansClustersBase_100, return_counts=True)\n",
    "print(np.asarray((unique, counts)).T)\n",
    "print(max(counts))\n",
    "print(min(counts))\n",
    "print(np.std(counts))\n"
   ]
  },
  {
   "cell_type": "code",
   "execution_count": null,
   "id": "60e9781e",
   "metadata": {
    "scrolled": true
   },
   "outputs": [],
   "source": [
    "display_manga_images_from_Cluster(0, HierarchialClusters_100)\n",
    "display_manga_titles_from_Cluster(0, HierarchialClusters_100)"
   ]
  },
  {
   "cell_type": "code",
   "execution_count": 98,
   "id": "481dc300",
   "metadata": {},
   "outputs": [
    {
     "data": {
      "text/plain": [
       "10"
      ]
     },
     "execution_count": 98,
     "metadata": {},
     "output_type": "execute_result"
    }
   ],
   "source": [
    "HierarchialClusters_100[manga_index(7815)]"
   ]
  },
  {
   "cell_type": "code",
   "execution_count": null,
   "id": "006d1173",
   "metadata": {
    "scrolled": true
   },
   "outputs": [],
   "source": [
    "display_all_clusters(KmeansClustersBase_100, 100)"
   ]
  },
  {
   "cell_type": "code",
   "execution_count": 4,
   "id": "c6d292b3",
   "metadata": {},
   "outputs": [],
   "source": [
    "def CreateGraph(features, title):\n",
    "    #note the nodes are the feature indicies not manga_ids\n",
    "    graph = nx.Graph()\n",
    "    for i in range(len(features)):\n",
    "        for j in range(len(features)):\n",
    "            if i != j:\n",
    "                #np.linalg.norm(features[i]-features[j] is the euclidean distance\n",
    "                graph.add_edge(i, j, weight=np.linalg.norm(features[i]-features[j]))\n",
    "    nx.write_weighted_edgelist(graph, 'image_saved_data/{}_graph'.format(title))"
   ]
  },
  {
   "cell_type": "code",
   "execution_count": 10,
   "id": "2c0e5d33",
   "metadata": {},
   "outputs": [
    {
     "name": "stdout",
     "output_type": "stream",
     "text": [
      "Time taken to create graph 314.46859431266785\n"
     ]
    }
   ],
   "source": [
    "start_time = time.time()\n",
    "CreateGraph(np.load('image_saved_data/ResNet50V2Max_features.npy'), 'ResNet50V2Max')\n",
    "print(\"Time taken to create graph\", time.time()-start_time)"
   ]
  },
  {
   "cell_type": "code",
   "execution_count": 23,
   "id": "0208a93a",
   "metadata": {},
   "outputs": [],
   "source": [
    "imagesMap = os.listdir('H:/manga_rec/manga_rec_back_end/manga_images/images')\n",
    "id_title_map = pd.read_csv('H:/manga_rec/manga_rec_back_end/manga_results/manga_ids.csv', header=None).set_index(0).T.to_dict('list')\n",
    "def get_manga_index(manga_id): #convert manga_id (from database) to manga_index in the extracted_features array\n",
    "    return imagesMap.index('{}.jpg'.format(manga_id))\n",
    "def get_manga_id(manga_index): #convert manga_index (node names in the graph) to manga_id (from database)\n",
    "    return int(imagesMap[manga_index][:-4])\n",
    "def get_manga_title(manga_id):\n",
    "    return id_title_map[manga_id]\n",
    "def concat_images(images):\n",
    "    rows = math.ceil(len(images)/20)\n",
    "    for row in range(rows):\n",
    "        dst = Image.new('RGB', (min(images[0].width*20, images[0].width*(len(images) - (row*20))), images[0].height))\n",
    "        for i in range(min(20, (len(images)-(row*20)))):\n",
    "            dst.paste(images[i+(row*20)], (images[0].width*i, 0))\n",
    "        display(dst)\n",
    "\n",
    "def recommendFromGraph(userId, graphTitle):\n",
    "    dataBase = mysql.connector.connect(\n",
    "        host=\"washington.uww.edu\",\n",
    "        user=\"stremmeltr18\",\n",
    "        passwd=base64.b64decode(b'dHM1NjEy').decode(\"utf-8\"),\n",
    "        database=\"manga_rec\"\n",
    "    )\n",
    "    myCursor = dataBase.cursor()\n",
    "    myCursor.execute(\"select * from ratings where userId = %s;\", [userId])\n",
    "    ratings = [x for x in myCursor]\n",
    "    convertedRatings = [convertRating(x) for x in ratings]\n",
    "    print(convertedRatings)\n",
    "    startTime = time.time()\n",
    "    graph = nx.read_weighted_edgelist('image_saved_data/{}'.format(graphTitle))\n",
    "    print('reaing graph took:', time.time()-startTime)\n",
    "    startTime = time.time()\n",
    "    graph.add_node('user')\n",
    "    for manga in convertedRatings:\n",
    "        #note manga[0] is the manga_id in database\n",
    "        print('manga', get_manga_index(manga[0]))\n",
    "        if manga[1] > 2: #only make edges to that manga if they liked it, intrested, or neutural\n",
    "            graph.add_edge('user', get_manga_index(manga[0]), weight=1)\n",
    "    print('adding user to graph took:', time.time()-startTime)\n",
    "    startTime = time.time()\n",
    "    distances = nx.single_source_dijkstra_path_length(graph, 'user')\n",
    "    print('getting distances took:', time.time()-startTime)\n",
    "    distances_sorted = sorted(distances.items(), key=lambda item: item[1])\n",
    "    images = []\n",
    "    for i in range(0, 10):\n",
    "        print(get_manga_title(get_manga_id(distances_sorted[i][0])))\n",
    "        images.append(images.append(Image.open('H:/manga_rec/manga_rec_back_end/manga_images/images/{}'.format(get_manga_id(distances_sorted[i][0])))))\n",
    "    concat_images(images)"
   ]
  },
  {
   "cell_type": "code",
   "execution_count": 24,
   "id": "e30b15d0",
   "metadata": {},
   "outputs": [
    {
     "name": "stdout",
     "output_type": "stream",
     "text": [
      "[(312, 5), (0, 5), (769, 5), (2049, 2), (132, 5), (225, 4), (20, 5), (1311, 5), (101, 5), (105, 5), (139, 5), (19, 4), (9793, 3), (221, 5), (937, 4), (1110, 5), (1236, 4), (4, 4), (1619, 5), (444, 4), (2196, 5), (211, 3), (62, 5), (2, 5), (506, 5), (2033, 5), (60, 5), (2113, 2), (9, 5), (3662, 4), (312, 5), (0, 5), (769, 5), (2049, 2), (132, 5), (225, 4), (20, 5), (1311, 5), (101, 5), (105, 5), (139, 5), (19, 4), (9793, 3), (221, 5), (937, 4), (1110, 5), (1236, 4), (4, 4), (1619, 5), (444, 4), (2196, 5), (211, 3), (62, 5), (2, 5), (506, 5), (2033, 5), (60, 5), (567, 4), (2113, 2), (9, 5), (3662, 4), (1997, 4), (2151, 4)]\n",
      "reaing graph took: 64.6176826953888\n",
      "manga 1890\n",
      "manga 0\n",
      "manga 4836\n",
      "manga 987\n",
      "manga 314\n",
      "manga 1165\n",
      "manga 944\n",
      "manga 306\n",
      "manga 14\n",
      "manga 52\n",
      "manga 378\n",
      "manga 856\n",
      "manga 5765\n",
      "manga 1128\n",
      "manga 5573\n",
      "manga 115\n",
      "manga 236\n",
      "manga 2565\n",
      "manga 606\n",
      "manga 2886\n",
      "manga 1121\n",
      "manga 1040\n",
      "manga 4001\n",
      "manga 943\n",
      "manga 3309\n",
      "manga 972\n",
      "manga 3895\n",
      "manga 1044\n",
      "manga 5405\n",
      "manga 2319\n",
      "manga 1890\n",
      "manga 0\n",
      "manga 4836\n",
      "manga 987\n",
      "manga 314\n",
      "manga 1165\n",
      "manga 944\n",
      "manga 306\n",
      "manga 14\n",
      "manga 52\n",
      "manga 378\n",
      "manga 856\n",
      "manga 5765\n",
      "manga 1128\n",
      "manga 5573\n",
      "manga 115\n",
      "manga 236\n",
      "manga 2565\n",
      "manga 606\n",
      "manga 2886\n",
      "manga 1121\n",
      "manga 1040\n",
      "manga 4001\n",
      "manga 943\n",
      "manga 3309\n",
      "manga 972\n",
      "manga 3895\n",
      "manga 3714\n",
      "manga 1044\n",
      "manga 5405\n",
      "manga 2319\n",
      "manga 941\n",
      "manga 1075\n",
      "adding user to graph took: 0.0039033889770507812\n",
      "getting distances took: 0.0009980201721191406\n"
     ]
    },
    {
     "ename": "TypeError",
     "evalue": "list indices must be integers or slices, not str",
     "output_type": "error",
     "traceback": [
      "\u001b[1;31m---------------------------------------------------------------------------\u001b[0m",
      "\u001b[1;31mTypeError\u001b[0m                                 Traceback (most recent call last)",
      "\u001b[1;32m~\\AppData\\Local\\Temp\\ipykernel_8292\\3053990516.py\u001b[0m in \u001b[0;36m<module>\u001b[1;34m\u001b[0m\n\u001b[1;32m----> 1\u001b[1;33m \u001b[0mrecommendFromGraph\u001b[0m\u001b[1;33m(\u001b[0m\u001b[1;36m17441\u001b[0m\u001b[1;33m,\u001b[0m \u001b[1;34m'ResNet152Avg_graph'\u001b[0m\u001b[1;33m)\u001b[0m\u001b[1;33m\u001b[0m\u001b[1;33m\u001b[0m\u001b[0m\n\u001b[0m",
      "\u001b[1;32m~\\AppData\\Local\\Temp\\ipykernel_8292\\1358703739.py\u001b[0m in \u001b[0;36mrecommendFromGraph\u001b[1;34m(userId, graphTitle)\u001b[0m\n\u001b[0;32m     44\u001b[0m     \u001b[0mimages\u001b[0m \u001b[1;33m=\u001b[0m \u001b[1;33m[\u001b[0m\u001b[1;33m]\u001b[0m\u001b[1;33m\u001b[0m\u001b[1;33m\u001b[0m\u001b[0m\n\u001b[0;32m     45\u001b[0m     \u001b[1;32mfor\u001b[0m \u001b[0mi\u001b[0m \u001b[1;32min\u001b[0m \u001b[0mrange\u001b[0m\u001b[1;33m(\u001b[0m\u001b[1;36m0\u001b[0m\u001b[1;33m,\u001b[0m \u001b[1;36m10\u001b[0m\u001b[1;33m)\u001b[0m\u001b[1;33m:\u001b[0m\u001b[1;33m\u001b[0m\u001b[1;33m\u001b[0m\u001b[0m\n\u001b[1;32m---> 46\u001b[1;33m         \u001b[0mprint\u001b[0m\u001b[1;33m(\u001b[0m\u001b[0mget_manga_title\u001b[0m\u001b[1;33m(\u001b[0m\u001b[0mget_manga_id\u001b[0m\u001b[1;33m(\u001b[0m\u001b[0mdistances_sorted\u001b[0m\u001b[1;33m[\u001b[0m\u001b[0mi\u001b[0m\u001b[1;33m]\u001b[0m\u001b[1;33m[\u001b[0m\u001b[1;36m0\u001b[0m\u001b[1;33m]\u001b[0m\u001b[1;33m)\u001b[0m\u001b[1;33m)\u001b[0m\u001b[1;33m)\u001b[0m\u001b[1;33m\u001b[0m\u001b[1;33m\u001b[0m\u001b[0m\n\u001b[0m\u001b[0;32m     47\u001b[0m         \u001b[0mimages\u001b[0m\u001b[1;33m.\u001b[0m\u001b[0mappend\u001b[0m\u001b[1;33m(\u001b[0m\u001b[0mimages\u001b[0m\u001b[1;33m.\u001b[0m\u001b[0mappend\u001b[0m\u001b[1;33m(\u001b[0m\u001b[0mImage\u001b[0m\u001b[1;33m.\u001b[0m\u001b[0mopen\u001b[0m\u001b[1;33m(\u001b[0m\u001b[1;34m'H:/manga_rec/manga_rec_back_end/manga_images/images/{}'\u001b[0m\u001b[1;33m.\u001b[0m\u001b[0mformat\u001b[0m\u001b[1;33m(\u001b[0m\u001b[0mget_manga_id\u001b[0m\u001b[1;33m(\u001b[0m\u001b[0mdistances_sorted\u001b[0m\u001b[1;33m[\u001b[0m\u001b[0mi\u001b[0m\u001b[1;33m]\u001b[0m\u001b[1;33m[\u001b[0m\u001b[1;36m0\u001b[0m\u001b[1;33m]\u001b[0m\u001b[1;33m)\u001b[0m\u001b[1;33m)\u001b[0m\u001b[1;33m)\u001b[0m\u001b[1;33m)\u001b[0m\u001b[1;33m)\u001b[0m\u001b[1;33m\u001b[0m\u001b[1;33m\u001b[0m\u001b[0m\n\u001b[0;32m     48\u001b[0m     \u001b[0mconcat_images\u001b[0m\u001b[1;33m(\u001b[0m\u001b[0mimages\u001b[0m\u001b[1;33m)\u001b[0m\u001b[1;33m\u001b[0m\u001b[1;33m\u001b[0m\u001b[0m\n",
      "\u001b[1;32m~\\AppData\\Local\\Temp\\ipykernel_8292\\1358703739.py\u001b[0m in \u001b[0;36mget_manga_id\u001b[1;34m(manga_index)\u001b[0m\n\u001b[0;32m      4\u001b[0m     \u001b[1;32mreturn\u001b[0m \u001b[0mimagesMap\u001b[0m\u001b[1;33m.\u001b[0m\u001b[0mindex\u001b[0m\u001b[1;33m(\u001b[0m\u001b[1;34m'{}.jpg'\u001b[0m\u001b[1;33m.\u001b[0m\u001b[0mformat\u001b[0m\u001b[1;33m(\u001b[0m\u001b[0mmanga_id\u001b[0m\u001b[1;33m)\u001b[0m\u001b[1;33m)\u001b[0m\u001b[1;33m\u001b[0m\u001b[1;33m\u001b[0m\u001b[0m\n\u001b[0;32m      5\u001b[0m \u001b[1;32mdef\u001b[0m \u001b[0mget_manga_id\u001b[0m\u001b[1;33m(\u001b[0m\u001b[0mmanga_index\u001b[0m\u001b[1;33m)\u001b[0m\u001b[1;33m:\u001b[0m \u001b[1;31m#convert manga_index (node names in the graph) to manga_id (from database)\u001b[0m\u001b[1;33m\u001b[0m\u001b[1;33m\u001b[0m\u001b[0m\n\u001b[1;32m----> 6\u001b[1;33m     \u001b[1;32mreturn\u001b[0m \u001b[0mint\u001b[0m\u001b[1;33m(\u001b[0m\u001b[0mimagesMap\u001b[0m\u001b[1;33m[\u001b[0m\u001b[0mmanga_index\u001b[0m\u001b[1;33m]\u001b[0m\u001b[1;33m[\u001b[0m\u001b[1;33m:\u001b[0m\u001b[1;33m-\u001b[0m\u001b[1;36m4\u001b[0m\u001b[1;33m]\u001b[0m\u001b[1;33m)\u001b[0m\u001b[1;33m\u001b[0m\u001b[1;33m\u001b[0m\u001b[0m\n\u001b[0m\u001b[0;32m      7\u001b[0m \u001b[1;32mdef\u001b[0m \u001b[0mget_manga_title\u001b[0m\u001b[1;33m(\u001b[0m\u001b[0mmanga_id\u001b[0m\u001b[1;33m)\u001b[0m\u001b[1;33m:\u001b[0m\u001b[1;33m\u001b[0m\u001b[1;33m\u001b[0m\u001b[0m\n\u001b[0;32m      8\u001b[0m     \u001b[1;32mreturn\u001b[0m \u001b[0mid_title_map\u001b[0m\u001b[1;33m[\u001b[0m\u001b[0mmanga_id\u001b[0m\u001b[1;33m]\u001b[0m\u001b[1;33m\u001b[0m\u001b[1;33m\u001b[0m\u001b[0m\n",
      "\u001b[1;31mTypeError\u001b[0m: list indices must be integers or slices, not str"
     ]
    }
   ],
   "source": [
    "recommendFromGraph(17441, 'ResNet152Avg_graph')"
   ]
  },
  {
   "cell_type": "code",
   "execution_count": null,
   "id": "39b69408",
   "metadata": {},
   "outputs": [],
   "source": []
  }
 ],
 "metadata": {
  "kernelspec": {
   "display_name": "Python 3 (ipykernel)",
   "language": "python",
   "name": "python3"
  },
  "language_info": {
   "codemirror_mode": {
    "name": "ipython",
    "version": 3
   },
   "file_extension": ".py",
   "mimetype": "text/x-python",
   "name": "python",
   "nbconvert_exporter": "python",
   "pygments_lexer": "ipython3",
   "version": "3.7.13"
  }
 },
 "nbformat": 4,
 "nbformat_minor": 5
}
